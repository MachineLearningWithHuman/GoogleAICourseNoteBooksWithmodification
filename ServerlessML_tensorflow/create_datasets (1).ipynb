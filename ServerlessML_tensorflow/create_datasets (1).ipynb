{
  "nbformat": 4,
  "nbformat_minor": 0,
  "metadata": {
    "colab": {
      "name": "create_datasets.ipynb",
      "version": "0.3.2",
      "provenance": [],
      "collapsed_sections": []
    },
    "language_info": {
      "codemirror_mode": {
        "name": "ipython",
        "version": 3
      },
      "file_extension": ".py",
      "mimetype": "text/x-python",
      "name": "python",
      "nbconvert_exporter": "python",
      "pygments_lexer": "ipython3",
      "version": "3.5.6"
    },
    "kernelspec": {
      "display_name": "Python 3",
      "language": "python",
      "name": "python3"
    }
  },
  "cells": [
    {
      "cell_type": "markdown",
      "metadata": {
        "id": "h2a8Ufv1MqgM",
        "colab_type": "text"
      },
      "source": [
        "# Serverless Machine Learning\n",
        "# Create ML datasets (lab)\n",
        "\n",
        "\n",
        "qwiklab link (https://googlecoursera.qwiklabs.com/focuses/21305)\n",
        "\n",
        "First open Google console give your credintials to login \n",
        "\n",
        "![alt text](https://cdn.qwiklabs.com/0d78dhX6IVMVWmixCPPSBbmi5O2GPokCXf1Ps1AkTgI%3D)\n",
        "\n",
        "From the GCP Console click the Cloud Shell icon on the top right toolbar:"
      ]
    },
    {
      "cell_type": "markdown",
      "metadata": {
        "id": "JrK-h9exNl7r",
        "colab_type": "text"
      },
      "source": [
        "![alt text](https://cdn.qwiklabs.com/%2FrXqdLSk9t%2BseADznDVQNk7Xozp6sXtutHyrPmXDOxM%3D)"
      ]
    },
    {
      "cell_type": "markdown",
      "metadata": {
        "id": "N84gOO29NqQm",
        "colab_type": "text"
      },
      "source": [
        "In cloud shell run the command \n",
        "**datalab create dataengvm --zone us-central1-a**\n",
        "\n",
        "\n",
        "---\n",
        "\n",
        "This will create a datalab instance in your workplace when ready change the port to 8081 to access the datalab \n",
        "\n",
        "![alt text](https://cdn.qwiklabs.com/UJR6o1LlsOQL0WWl7eHbtjGgX%2Fptnm%2FJl4A%2BZuq7tOA%3D)"
      ]
    },
    {
      "cell_type": "markdown",
      "metadata": {
        "id": "NW_XqzMvNqNO",
        "colab_type": "text"
      },
      "source": [
        "You are ready to follow the code junk"
      ]
    },
    {
      "cell_type": "markdown",
      "metadata": {
        "id": "WT6ElpjSMk7M",
        "colab_type": "text"
      },
      "source": [
        "<h1> Explore and create ML datasets </h1>\n",
        "\n",
        "In this notebook, we will explore data corresponding to taxi rides in New York City to build a Machine Learning model in support of a fare-estimation tool. The idea is to suggest a likely fare to taxi riders so that they are not surprised, and so that they can protest if the charge is much higher than expected.\n",
        "\n",
        "<div id=\"toc\"></div>\n",
        "\n",
        "Let's start off with the Python imports that we need."
      ]
    },
    {
      "cell_type": "code",
      "metadata": {
        "id": "kgQClqEDMk7N",
        "colab_type": "code",
        "colab": {}
      },
      "source": [
        "from google.cloud import bigquery\n",
        "import seaborn as sns\n",
        "import matplotlib.pyplot as plt\n",
        "import pandas as pd\n",
        "import numpy as np\n",
        "import shutil"
      ],
      "execution_count": 0,
      "outputs": []
    },
    {
      "cell_type": "code",
      "metadata": {
        "id": "lo2PXspqMk7Q",
        "colab_type": "code",
        "colab": {},
        "outputId": "a2d7dfed-350f-4dc0-d05e-cb70bec5da41"
      },
      "source": [
        "%%javascript\n",
        "$.getScript('https://kmahelona.github.io/ipython_notebook_goodies/ipython_notebook_toc.js')"
      ],
      "execution_count": 0,
      "outputs": [
        {
          "output_type": "display_data",
          "data": {
            "application/javascript": [
              "$.getScript('https://kmahelona.github.io/ipython_notebook_goodies/ipython_notebook_toc.js')"
            ],
            "text/plain": [
              "<IPython.core.display.Javascript object>"
            ]
          },
          "metadata": {
            "tags": []
          }
        }
      ]
    },
    {
      "cell_type": "markdown",
      "metadata": {
        "id": "g0Cyegr0Mk7V",
        "colab_type": "text"
      },
      "source": [
        "<h3> Extract sample data from BigQuery </h3>\n",
        "\n",
        "The dataset that we will use is <a href=\"https://bigquery.cloud.google.com/table/nyc-tlc:yellow.trips\">a BigQuery public dataset</a>. Click on the link, and look at the column names. Switch to the Details tab to verify that the number of records is one billion, and then switch to the Preview tab to look at a few rows.\n",
        "\n",
        "Let's write a SQL query to pick up interesting fields from the dataset."
      ]
    },
    {
      "cell_type": "code",
      "metadata": {
        "id": "kmOxQRw4Mk7V",
        "colab_type": "code",
        "colab": {}
      },
      "source": [
        "sql = \"\"\"\n",
        "  SELECT\n",
        "    pickup_datetime, pickup_longitude, pickup_latitude, dropoff_longitude,\n",
        "    dropoff_latitude, passenger_count, trip_distance, tolls_amount, \n",
        "    fare_amount, total_amount \n",
        "  FROM `nyc-tlc.yellow.trips`\n",
        "  LIMIT 10\n",
        "\"\"\""
      ],
      "execution_count": 0,
      "outputs": []
    },
    {
      "cell_type": "code",
      "metadata": {
        "id": "0kAmfWDyMk7Y",
        "colab_type": "code",
        "colab": {},
        "outputId": "20991d00-3f24-4c06-c37e-c825c33f4f05"
      },
      "source": [
        "client = bigquery.Client()\n",
        "trips = client.query(sql).to_dataframe()\n",
        "trips"
      ],
      "execution_count": 0,
      "outputs": [
        {
          "output_type": "execute_result",
          "data": {
            "text/html": [
              "<div>\n",
              "<style scoped>\n",
              "    .dataframe tbody tr th:only-of-type {\n",
              "        vertical-align: middle;\n",
              "    }\n",
              "\n",
              "    .dataframe tbody tr th {\n",
              "        vertical-align: top;\n",
              "    }\n",
              "\n",
              "    .dataframe thead th {\n",
              "        text-align: right;\n",
              "    }\n",
              "</style>\n",
              "<table border=\"1\" class=\"dataframe\">\n",
              "  <thead>\n",
              "    <tr style=\"text-align: right;\">\n",
              "      <th></th>\n",
              "      <th>pickup_datetime</th>\n",
              "      <th>pickup_longitude</th>\n",
              "      <th>pickup_latitude</th>\n",
              "      <th>dropoff_longitude</th>\n",
              "      <th>dropoff_latitude</th>\n",
              "      <th>passenger_count</th>\n",
              "      <th>trip_distance</th>\n",
              "      <th>tolls_amount</th>\n",
              "      <th>fare_amount</th>\n",
              "      <th>total_amount</th>\n",
              "    </tr>\n",
              "  </thead>\n",
              "  <tbody>\n",
              "    <tr>\n",
              "      <th>0</th>\n",
              "      <td>2010-02-05 01:20:05+00:00</td>\n",
              "      <td>-73.979935</td>\n",
              "      <td>40.761105</td>\n",
              "      <td>-73.966230</td>\n",
              "      <td>40.689831</td>\n",
              "      <td>1</td>\n",
              "      <td>84.8</td>\n",
              "      <td>0.0</td>\n",
              "      <td>0.0</td>\n",
              "      <td>0.0</td>\n",
              "    </tr>\n",
              "    <tr>\n",
              "      <th>1</th>\n",
              "      <td>2010-03-07 00:58:45+00:00</td>\n",
              "      <td>-74.001449</td>\n",
              "      <td>40.726071</td>\n",
              "      <td>-73.980448</td>\n",
              "      <td>40.744253</td>\n",
              "      <td>2</td>\n",
              "      <td>2.2</td>\n",
              "      <td>0.0</td>\n",
              "      <td>0.0</td>\n",
              "      <td>0.0</td>\n",
              "    </tr>\n",
              "    <tr>\n",
              "      <th>2</th>\n",
              "      <td>2010-03-05 20:17:51+00:00</td>\n",
              "      <td>-73.863740</td>\n",
              "      <td>40.734245</td>\n",
              "      <td>-73.991364</td>\n",
              "      <td>40.750096</td>\n",
              "      <td>1</td>\n",
              "      <td>7.6</td>\n",
              "      <td>0.0</td>\n",
              "      <td>0.0</td>\n",
              "      <td>0.0</td>\n",
              "    </tr>\n",
              "    <tr>\n",
              "      <th>3</th>\n",
              "      <td>2010-03-29 08:12:38+00:00</td>\n",
              "      <td>-73.993394</td>\n",
              "      <td>40.747158</td>\n",
              "      <td>-73.790150</td>\n",
              "      <td>40.646883</td>\n",
              "      <td>1</td>\n",
              "      <td>171.1</td>\n",
              "      <td>0.0</td>\n",
              "      <td>0.0</td>\n",
              "      <td>0.0</td>\n",
              "    </tr>\n",
              "    <tr>\n",
              "      <th>4</th>\n",
              "      <td>2015-02-22 22:40:31+00:00</td>\n",
              "      <td>-73.937363</td>\n",
              "      <td>40.758041</td>\n",
              "      <td>-73.937386</td>\n",
              "      <td>40.758060</td>\n",
              "      <td>1</td>\n",
              "      <td>0.0</td>\n",
              "      <td>0.0</td>\n",
              "      <td>0.0</td>\n",
              "      <td>0.0</td>\n",
              "    </tr>\n",
              "    <tr>\n",
              "      <th>5</th>\n",
              "      <td>2010-03-14 05:27:23+00:00</td>\n",
              "      <td>-73.993982</td>\n",
              "      <td>40.770577</td>\n",
              "      <td>-73.997214</td>\n",
              "      <td>40.762466</td>\n",
              "      <td>1</td>\n",
              "      <td>12.4</td>\n",
              "      <td>0.0</td>\n",
              "      <td>0.0</td>\n",
              "      <td>0.0</td>\n",
              "    </tr>\n",
              "    <tr>\n",
              "      <th>6</th>\n",
              "      <td>2010-02-04 22:41:28+00:00</td>\n",
              "      <td>-73.991934</td>\n",
              "      <td>40.730339</td>\n",
              "      <td>-73.991934</td>\n",
              "      <td>40.730339</td>\n",
              "      <td>1</td>\n",
              "      <td>0.0</td>\n",
              "      <td>0.0</td>\n",
              "      <td>0.0</td>\n",
              "      <td>0.0</td>\n",
              "    </tr>\n",
              "    <tr>\n",
              "      <th>7</th>\n",
              "      <td>2013-08-15 03:49:56+00:00</td>\n",
              "      <td>-73.937020</td>\n",
              "      <td>40.620175</td>\n",
              "      <td>-73.936452</td>\n",
              "      <td>40.620522</td>\n",
              "      <td>1</td>\n",
              "      <td>0.0</td>\n",
              "      <td>0.0</td>\n",
              "      <td>0.0</td>\n",
              "      <td>0.0</td>\n",
              "    </tr>\n",
              "    <tr>\n",
              "      <th>8</th>\n",
              "      <td>2010-03-02 14:45:23+00:00</td>\n",
              "      <td>-73.973403</td>\n",
              "      <td>40.754323</td>\n",
              "      <td>-73.806456</td>\n",
              "      <td>40.652384</td>\n",
              "      <td>1</td>\n",
              "      <td>14.9</td>\n",
              "      <td>0.0</td>\n",
              "      <td>0.0</td>\n",
              "      <td>0.0</td>\n",
              "    </tr>\n",
              "    <tr>\n",
              "      <th>9</th>\n",
              "      <td>2010-03-11 01:24:14+00:00</td>\n",
              "      <td>-73.990386</td>\n",
              "      <td>40.757301</td>\n",
              "      <td>-74.006484</td>\n",
              "      <td>40.782452</td>\n",
              "      <td>1</td>\n",
              "      <td>46.4</td>\n",
              "      <td>6.0</td>\n",
              "      <td>0.0</td>\n",
              "      <td>6.0</td>\n",
              "    </tr>\n",
              "  </tbody>\n",
              "</table>\n",
              "</div>"
            ],
            "text/plain": [
              "            pickup_datetime  pickup_longitude  pickup_latitude  \\\n",
              "0 2010-02-05 01:20:05+00:00        -73.979935        40.761105   \n",
              "1 2010-03-07 00:58:45+00:00        -74.001449        40.726071   \n",
              "2 2010-03-05 20:17:51+00:00        -73.863740        40.734245   \n",
              "3 2010-03-29 08:12:38+00:00        -73.993394        40.747158   \n",
              "4 2015-02-22 22:40:31+00:00        -73.937363        40.758041   \n",
              "5 2010-03-14 05:27:23+00:00        -73.993982        40.770577   \n",
              "6 2010-02-04 22:41:28+00:00        -73.991934        40.730339   \n",
              "7 2013-08-15 03:49:56+00:00        -73.937020        40.620175   \n",
              "8 2010-03-02 14:45:23+00:00        -73.973403        40.754323   \n",
              "9 2010-03-11 01:24:14+00:00        -73.990386        40.757301   \n",
              "\n",
              "   dropoff_longitude  dropoff_latitude  passenger_count  trip_distance  \\\n",
              "0         -73.966230         40.689831                1           84.8   \n",
              "1         -73.980448         40.744253                2            2.2   \n",
              "2         -73.991364         40.750096                1            7.6   \n",
              "3         -73.790150         40.646883                1          171.1   \n",
              "4         -73.937386         40.758060                1            0.0   \n",
              "5         -73.997214         40.762466                1           12.4   \n",
              "6         -73.991934         40.730339                1            0.0   \n",
              "7         -73.936452         40.620522                1            0.0   \n",
              "8         -73.806456         40.652384                1           14.9   \n",
              "9         -74.006484         40.782452                1           46.4   \n",
              "\n",
              "   tolls_amount  fare_amount  total_amount  \n",
              "0           0.0          0.0           0.0  \n",
              "1           0.0          0.0           0.0  \n",
              "2           0.0          0.0           0.0  \n",
              "3           0.0          0.0           0.0  \n",
              "4           0.0          0.0           0.0  \n",
              "5           0.0          0.0           0.0  \n",
              "6           0.0          0.0           0.0  \n",
              "7           0.0          0.0           0.0  \n",
              "8           0.0          0.0           0.0  \n",
              "9           6.0          0.0           6.0  "
            ]
          },
          "metadata": {
            "tags": []
          },
          "execution_count": 4
        }
      ]
    },
    {
      "cell_type": "markdown",
      "metadata": {
        "id": "saKRz9CJMk7b",
        "colab_type": "text"
      },
      "source": [
        "Let's increase the number of records so that we can do some neat graphs.  There is no guarantee about the order in which records are returned, and so no guarantee about which records get returned if we simply increase the LIMIT. To properly sample the dataset, let's use the HASH of the pickup time and return 1 in 100,000 records -- because there are 1 billion records in the data, we should get back approximately 10,000 records if we do this."
      ]
    },
    {
      "cell_type": "code",
      "metadata": {
        "id": "K-Dk1F1pMk7b",
        "colab_type": "code",
        "colab": {}
      },
      "source": [
        "sql = \"\"\"\n",
        "  SELECT\n",
        "    pickup_datetime,\n",
        "    pickup_longitude, pickup_latitude, \n",
        "    dropoff_longitude, dropoff_latitude,\n",
        "    passenger_count,\n",
        "    trip_distance,\n",
        "    tolls_amount,\n",
        "    fare_amount,\n",
        "    total_amount\n",
        "  FROM\n",
        "    `nyc-tlc.yellow.trips`\n",
        "  WHERE\n",
        "    MOD(ABS(FARM_FINGERPRINT(CAST(pickup_datetime AS STRING))), 100000) = 1\n",
        "\"\"\""
      ],
      "execution_count": 0,
      "outputs": []
    },
    {
      "cell_type": "code",
      "metadata": {
        "id": "wbgHM32dMk7e",
        "colab_type": "code",
        "colab": {},
        "outputId": "f29f1c88-890f-4eb3-9f64-2a64fb7ee77a"
      },
      "source": [
        "trips = client.query(sql).to_dataframe()\n",
        "trips[:10]\n",
        "trips[:5]"
      ],
      "execution_count": 0,
      "outputs": [
        {
          "output_type": "execute_result",
          "data": {
            "text/html": [
              "<div>\n",
              "<style scoped>\n",
              "    .dataframe tbody tr th:only-of-type {\n",
              "        vertical-align: middle;\n",
              "    }\n",
              "\n",
              "    .dataframe tbody tr th {\n",
              "        vertical-align: top;\n",
              "    }\n",
              "\n",
              "    .dataframe thead th {\n",
              "        text-align: right;\n",
              "    }\n",
              "</style>\n",
              "<table border=\"1\" class=\"dataframe\">\n",
              "  <thead>\n",
              "    <tr style=\"text-align: right;\">\n",
              "      <th></th>\n",
              "      <th>pickup_datetime</th>\n",
              "      <th>pickup_longitude</th>\n",
              "      <th>pickup_latitude</th>\n",
              "      <th>dropoff_longitude</th>\n",
              "      <th>dropoff_latitude</th>\n",
              "      <th>passenger_count</th>\n",
              "      <th>trip_distance</th>\n",
              "      <th>tolls_amount</th>\n",
              "      <th>fare_amount</th>\n",
              "      <th>total_amount</th>\n",
              "    </tr>\n",
              "  </thead>\n",
              "  <tbody>\n",
              "    <tr>\n",
              "      <th>0</th>\n",
              "      <td>2014-05-20 23:09:00+00:00</td>\n",
              "      <td>-73.995203</td>\n",
              "      <td>40.727307</td>\n",
              "      <td>-73.948775</td>\n",
              "      <td>40.813487</td>\n",
              "      <td>1</td>\n",
              "      <td>10.31</td>\n",
              "      <td>0.00</td>\n",
              "      <td>33.5</td>\n",
              "      <td>38.00</td>\n",
              "    </tr>\n",
              "    <tr>\n",
              "      <th>1</th>\n",
              "      <td>2012-03-30 18:28:20+00:00</td>\n",
              "      <td>-73.976148</td>\n",
              "      <td>40.776154</td>\n",
              "      <td>-74.010156</td>\n",
              "      <td>40.715113</td>\n",
              "      <td>1</td>\n",
              "      <td>5.70</td>\n",
              "      <td>0.00</td>\n",
              "      <td>17.3</td>\n",
              "      <td>18.80</td>\n",
              "    </tr>\n",
              "    <tr>\n",
              "      <th>2</th>\n",
              "      <td>2014-10-06 15:16:00+00:00</td>\n",
              "      <td>-73.980130</td>\n",
              "      <td>40.760910</td>\n",
              "      <td>-73.861730</td>\n",
              "      <td>40.768330</td>\n",
              "      <td>2</td>\n",
              "      <td>11.47</td>\n",
              "      <td>5.33</td>\n",
              "      <td>36.5</td>\n",
              "      <td>47.33</td>\n",
              "    </tr>\n",
              "    <tr>\n",
              "      <th>3</th>\n",
              "      <td>2014-12-08 21:50:00+00:00</td>\n",
              "      <td>-73.870867</td>\n",
              "      <td>40.773782</td>\n",
              "      <td>-74.003297</td>\n",
              "      <td>40.708215</td>\n",
              "      <td>2</td>\n",
              "      <td>11.81</td>\n",
              "      <td>0.00</td>\n",
              "      <td>33.5</td>\n",
              "      <td>37.50</td>\n",
              "    </tr>\n",
              "    <tr>\n",
              "      <th>4</th>\n",
              "      <td>2010-05-26 16:15:03+00:00</td>\n",
              "      <td>-74.002922</td>\n",
              "      <td>40.714474</td>\n",
              "      <td>-73.978505</td>\n",
              "      <td>40.758280</td>\n",
              "      <td>1</td>\n",
              "      <td>6.10</td>\n",
              "      <td>0.00</td>\n",
              "      <td>20.9</td>\n",
              "      <td>25.76</td>\n",
              "    </tr>\n",
              "  </tbody>\n",
              "</table>\n",
              "</div>"
            ],
            "text/plain": [
              "            pickup_datetime  pickup_longitude  pickup_latitude  \\\n",
              "0 2014-05-20 23:09:00+00:00        -73.995203        40.727307   \n",
              "1 2012-03-30 18:28:20+00:00        -73.976148        40.776154   \n",
              "2 2014-10-06 15:16:00+00:00        -73.980130        40.760910   \n",
              "3 2014-12-08 21:50:00+00:00        -73.870867        40.773782   \n",
              "4 2010-05-26 16:15:03+00:00        -74.002922        40.714474   \n",
              "\n",
              "   dropoff_longitude  dropoff_latitude  passenger_count  trip_distance  \\\n",
              "0         -73.948775         40.813487                1          10.31   \n",
              "1         -74.010156         40.715113                1           5.70   \n",
              "2         -73.861730         40.768330                2          11.47   \n",
              "3         -74.003297         40.708215                2          11.81   \n",
              "4         -73.978505         40.758280                1           6.10   \n",
              "\n",
              "   tolls_amount  fare_amount  total_amount  \n",
              "0          0.00         33.5         38.00  \n",
              "1          0.00         17.3         18.80  \n",
              "2          5.33         36.5         47.33  \n",
              "3          0.00         33.5         37.50  \n",
              "4          0.00         20.9         25.76  "
            ]
          },
          "metadata": {
            "tags": []
          },
          "execution_count": 7
        }
      ]
    },
    {
      "cell_type": "markdown",
      "metadata": {
        "id": "ON6K3pj2Mk7h",
        "colab_type": "text"
      },
      "source": [
        "<h3> Exploring data </h3>\n",
        "\n",
        "Let's explore this dataset and clean it up as necessary. We'll use the Python Seaborn package to visualize graphs and Pandas to do the slicing and filtering."
      ]
    },
    {
      "cell_type": "code",
      "metadata": {
        "id": "Umvu2ZedMk7i",
        "colab_type": "code",
        "colab": {},
        "outputId": "8471e4fd-4f70-4bb2-8552-3f4acb32a9fd"
      },
      "source": [
        "ax = sns.regplot(x=\"trip_distance\", y=\"fare_amount\", fit_reg=False, ci=None, truncate=True, data=trips)\n",
        "ax.figure.set_size_inches(10, 8)"
      ],
      "execution_count": 0,
      "outputs": [
        {
          "output_type": "stream",
          "text": [
            "/usr/local/envs/py3env/lib/python3.5/site-packages/matplotlib/font_manager.py:1320: UserWarning: findfont: Font family ['sans-serif'] not found. Falling back to DejaVu Sans\n",
            "  (prop.get_family(), self.defaultFamily[fontext]))\n"
          ],
          "name": "stderr"
        },
        {
          "output_type": "display_data",
          "data": {
            "image/png": "[encoded data removed]",
            "text/plain": [
              "<matplotlib.figure.Figure at 0x7f05f153f748>"
            ]
          },
          "metadata": {
            "tags": []
          }
        }
      ]
    },
    {
      "cell_type": "markdown",
      "metadata": {
        "id": "BXaoaQ8FMk7l",
        "colab_type": "text"
      },
      "source": [
        "Hmm ... do you see something wrong with the data that needs addressing?\n",
        "\n",
        "It appears that we have a lot of invalid data that is being coded as zero distance and some fare amounts that are definitely illegitimate. Let's remove them from our analysis. We can do this by modifying the BigQuery query to keep only trips longer than zero miles and fare amounts that are at least the minimum cab fare ($2.50).\n",
        "\n",
        "Note the extra WHERE clauses."
      ]
    },
    {
      "cell_type": "code",
      "metadata": {
        "id": "jt_uFx99Mk7m",
        "colab_type": "code",
        "colab": {}
      },
      "source": [
        "sql = \"\"\"\n",
        "  SELECT\n",
        "    pickup_datetime,\n",
        "    pickup_longitude, pickup_latitude, \n",
        "    dropoff_longitude, dropoff_latitude,\n",
        "    passenger_count,\n",
        "    trip_distance,\n",
        "    tolls_amount,\n",
        "    fare_amount,\n",
        "    total_amount\n",
        "  FROM\n",
        "    `nyc-tlc.yellow.trips`\n",
        "  WHERE\n",
        "    MOD(ABS(FARM_FINGERPRINT(CAST(pickup_datetime AS STRING))), 100000) = 1\n",
        "    AND trip_distance > 0 AND fare_amount >= 2.5\n",
        "\"\"\""
      ],
      "execution_count": 0,
      "outputs": []
    },
    {
      "cell_type": "code",
      "metadata": {
        "id": "uLLZiNNZMk7o",
        "colab_type": "code",
        "colab": {},
        "outputId": "b19bad97-e63f-434b-e6f2-30a8aacbd13f"
      },
      "source": [
        "trips = client.query(sql).to_dataframe()\n",
        "ax = sns.regplot(x=\"trip_distance\", y=\"fare_amount\", fit_reg=False, ci=None, truncate=True, data=trips)\n",
        "ax.figure.set_size_inches(10, 8)"
      ],
      "execution_count": 0,
      "outputs": [
        {
          "output_type": "stream",
          "text": [
            "/usr/local/envs/py3env/lib/python3.5/site-packages/matplotlib/font_manager.py:1320: UserWarning: findfont: Font family ['sans-serif'] not found. Falling back to DejaVu Sans\n",
            "  (prop.get_family(), self.defaultFamily[fontext]))\n"
          ],
          "name": "stderr"
        },
        {
          "output_type": "display_data",
          "data": {
            "image/png": "[encoded data removed]",
            "text/plain": [
              "<matplotlib.figure.Figure at 0x7f06203e0898>"
            ]
          },
          "metadata": {
            "tags": []
          }
        }
      ]
    },
    {
      "cell_type": "markdown",
      "metadata": {
        "id": "z65VEzTzMk7r",
        "colab_type": "text"
      },
      "source": [
        "What's up with the streaks at \\$45 and \\$50?  Those are fixed-amount rides from JFK and La Guardia airports into anywhere in Manhattan, i.e. to be expected. Let's list the data to make sure the values look reasonable.\n",
        "\n",
        "Let's examine whether the toll amount is captured in the total amount."
      ]
    },
    {
      "cell_type": "code",
      "metadata": {
        "id": "iwyIiQxPMk7r",
        "colab_type": "code",
        "colab": {},
        "outputId": "10791e54-124f-4b5f-fbad-ad0d1ce32cd4"
      },
      "source": [
        "tollrides = trips[trips['tolls_amount'] > 0]\n",
        "tollrides[tollrides['pickup_datetime'] == pd.Timestamp('2010-04-29 12:28:00')]"
      ],
      "execution_count": 0,
      "outputs": [
        {
          "output_type": "execute_result",
          "data": {
            "text/html": [
              "<div>\n",
              "<style scoped>\n",
              "    .dataframe tbody tr th:only-of-type {\n",
              "        vertical-align: middle;\n",
              "    }\n",
              "\n",
              "    .dataframe tbody tr th {\n",
              "        vertical-align: top;\n",
              "    }\n",
              "\n",
              "    .dataframe thead th {\n",
              "        text-align: right;\n",
              "    }\n",
              "</style>\n",
              "<table border=\"1\" class=\"dataframe\">\n",
              "  <thead>\n",
              "    <tr style=\"text-align: right;\">\n",
              "      <th></th>\n",
              "      <th>pickup_datetime</th>\n",
              "      <th>pickup_longitude</th>\n",
              "      <th>pickup_latitude</th>\n",
              "      <th>dropoff_longitude</th>\n",
              "      <th>dropoff_latitude</th>\n",
              "      <th>passenger_count</th>\n",
              "      <th>trip_distance</th>\n",
              "      <th>tolls_amount</th>\n",
              "      <th>fare_amount</th>\n",
              "      <th>total_amount</th>\n",
              "    </tr>\n",
              "  </thead>\n",
              "  <tbody>\n",
              "    <tr>\n",
              "      <th>381</th>\n",
              "      <td>2010-04-29 12:28:00+00:00</td>\n",
              "      <td>-73.870773</td>\n",
              "      <td>40.773753</td>\n",
              "      <td>-73.984963</td>\n",
              "      <td>40.757590</td>\n",
              "      <td>1</td>\n",
              "      <td>10.97</td>\n",
              "      <td>4.57</td>\n",
              "      <td>28.5</td>\n",
              "      <td>33.57</td>\n",
              "    </tr>\n",
              "    <tr>\n",
              "      <th>383</th>\n",
              "      <td>2010-04-29 12:28:00+00:00</td>\n",
              "      <td>-73.950105</td>\n",
              "      <td>40.827105</td>\n",
              "      <td>-73.861490</td>\n",
              "      <td>40.768172</td>\n",
              "      <td>1</td>\n",
              "      <td>9.06</td>\n",
              "      <td>4.57</td>\n",
              "      <td>23.3</td>\n",
              "      <td>28.37</td>\n",
              "    </tr>\n",
              "    <tr>\n",
              "      <th>496</th>\n",
              "      <td>2010-04-29 12:28:00+00:00</td>\n",
              "      <td>-74.008322</td>\n",
              "      <td>40.735337</td>\n",
              "      <td>-74.177383</td>\n",
              "      <td>40.695083</td>\n",
              "      <td>1</td>\n",
              "      <td>15.86</td>\n",
              "      <td>10.00</td>\n",
              "      <td>49.9</td>\n",
              "      <td>69.88</td>\n",
              "    </tr>\n",
              "    <tr>\n",
              "      <th>585</th>\n",
              "      <td>2010-04-29 12:28:00+00:00</td>\n",
              "      <td>-73.862715</td>\n",
              "      <td>40.768987</td>\n",
              "      <td>-74.007195</td>\n",
              "      <td>40.707480</td>\n",
              "      <td>1</td>\n",
              "      <td>13.17</td>\n",
              "      <td>4.57</td>\n",
              "      <td>32.9</td>\n",
              "      <td>44.55</td>\n",
              "    </tr>\n",
              "    <tr>\n",
              "      <th>719</th>\n",
              "      <td>2010-04-29 12:28:00+00:00</td>\n",
              "      <td>-73.865723</td>\n",
              "      <td>40.770543</td>\n",
              "      <td>-73.984790</td>\n",
              "      <td>40.758760</td>\n",
              "      <td>1</td>\n",
              "      <td>12.32</td>\n",
              "      <td>5.50</td>\n",
              "      <td>32.5</td>\n",
              "      <td>45.00</td>\n",
              "    </tr>\n",
              "    <tr>\n",
              "      <th>1206</th>\n",
              "      <td>2010-04-29 12:28:00+00:00</td>\n",
              "      <td>-73.870928</td>\n",
              "      <td>40.773747</td>\n",
              "      <td>-73.983638</td>\n",
              "      <td>40.752948</td>\n",
              "      <td>1</td>\n",
              "      <td>8.63</td>\n",
              "      <td>4.57</td>\n",
              "      <td>25.7</td>\n",
              "      <td>30.77</td>\n",
              "    </tr>\n",
              "    <tr>\n",
              "      <th>1274</th>\n",
              "      <td>2010-04-29 12:28:00+00:00</td>\n",
              "      <td>-73.969748</td>\n",
              "      <td>40.759790</td>\n",
              "      <td>-73.872892</td>\n",
              "      <td>40.774297</td>\n",
              "      <td>1</td>\n",
              "      <td>10.15</td>\n",
              "      <td>4.57</td>\n",
              "      <td>24.5</td>\n",
              "      <td>29.57</td>\n",
              "    </tr>\n",
              "    <tr>\n",
              "      <th>1327</th>\n",
              "      <td>2010-04-29 12:28:00+00:00</td>\n",
              "      <td>-73.991303</td>\n",
              "      <td>40.749965</td>\n",
              "      <td>-73.714585</td>\n",
              "      <td>40.745767</td>\n",
              "      <td>2</td>\n",
              "      <td>18.68</td>\n",
              "      <td>4.57</td>\n",
              "      <td>47.3</td>\n",
              "      <td>61.83</td>\n",
              "    </tr>\n",
              "    <tr>\n",
              "      <th>1378</th>\n",
              "      <td>2010-04-29 12:28:00+00:00</td>\n",
              "      <td>-74.006398</td>\n",
              "      <td>40.738450</td>\n",
              "      <td>-73.872652</td>\n",
              "      <td>40.774357</td>\n",
              "      <td>2</td>\n",
              "      <td>10.67</td>\n",
              "      <td>4.57</td>\n",
              "      <td>29.7</td>\n",
              "      <td>39.77</td>\n",
              "    </tr>\n",
              "    <tr>\n",
              "      <th>6730</th>\n",
              "      <td>2010-04-29 12:28:00+00:00</td>\n",
              "      <td>-73.789942</td>\n",
              "      <td>40.646943</td>\n",
              "      <td>-73.974362</td>\n",
              "      <td>40.756418</td>\n",
              "      <td>2</td>\n",
              "      <td>16.84</td>\n",
              "      <td>4.57</td>\n",
              "      <td>45.0</td>\n",
              "      <td>50.07</td>\n",
              "    </tr>\n",
              "  </tbody>\n",
              "</table>\n",
              "</div>"
            ],
            "text/plain": [
              "               pickup_datetime  pickup_longitude  pickup_latitude  \\\n",
              "381  2010-04-29 12:28:00+00:00        -73.870773        40.773753   \n",
              "383  2010-04-29 12:28:00+00:00        -73.950105        40.827105   \n",
              "496  2010-04-29 12:28:00+00:00        -74.008322        40.735337   \n",
              "585  2010-04-29 12:28:00+00:00        -73.862715        40.768987   \n",
              "719  2010-04-29 12:28:00+00:00        -73.865723        40.770543   \n",
              "1206 2010-04-29 12:28:00+00:00        -73.870928        40.773747   \n",
              "1274 2010-04-29 12:28:00+00:00        -73.969748        40.759790   \n",
              "1327 2010-04-29 12:28:00+00:00        -73.991303        40.749965   \n",
              "1378 2010-04-29 12:28:00+00:00        -74.006398        40.738450   \n",
              "6730 2010-04-29 12:28:00+00:00        -73.789942        40.646943   \n",
              "\n",
              "      dropoff_longitude  dropoff_latitude  passenger_count  trip_distance  \\\n",
              "381          -73.984963         40.757590                1          10.97   \n",
              "383          -73.861490         40.768172                1           9.06   \n",
              "496          -74.177383         40.695083                1          15.86   \n",
              "585          -74.007195         40.707480                1          13.17   \n",
              "719          -73.984790         40.758760                1          12.32   \n",
              "1206         -73.983638         40.752948                1           8.63   \n",
              "1274         -73.872892         40.774297                1          10.15   \n",
              "1327         -73.714585         40.745767                2          18.68   \n",
              "1378         -73.872652         40.774357                2          10.67   \n",
              "6730         -73.974362         40.756418                2          16.84   \n",
              "\n",
              "      tolls_amount  fare_amount  total_amount  \n",
              "381           4.57         28.5         33.57  \n",
              "383           4.57         23.3         28.37  \n",
              "496          10.00         49.9         69.88  \n",
              "585           4.57         32.9         44.55  \n",
              "719           5.50         32.5         45.00  \n",
              "1206          4.57         25.7         30.77  \n",
              "1274          4.57         24.5         29.57  \n",
              "1327          4.57         47.3         61.83  \n",
              "1378          4.57         29.7         39.77  \n",
              "6730          4.57         45.0         50.07  "
            ]
          },
          "metadata": {
            "tags": []
          },
          "execution_count": 11
        }
      ]
    },
    {
      "cell_type": "markdown",
      "metadata": {
        "id": "Gl7cdOrrMk7u",
        "colab_type": "text"
      },
      "source": [
        "Looking a few samples above, it should be clear that the total amount reflects fare amount, toll and tip somewhat arbitrarily -- this is because when customers pay cash, the tip is not known.  So, we'll use the sum of fare_amount + tolls_amount as what needs to be predicted.  Tips are discretionary and do not have to be included in our fare estimation tool.\n",
        "\n",
        "Let's also look at the distribution of values within the columns."
      ]
    },
    {
      "cell_type": "code",
      "metadata": {
        "id": "cj2JW8pnMk7v",
        "colab_type": "code",
        "colab": {},
        "outputId": "4d47f539-ce8b-42ab-950d-b82a9e575949"
      },
      "source": [
        "trips.describe()"
      ],
      "execution_count": 0,
      "outputs": [
        {
          "output_type": "execute_result",
          "data": {
            "text/html": [
              "<div>\n",
              "<style scoped>\n",
              "    .dataframe tbody tr th:only-of-type {\n",
              "        vertical-align: middle;\n",
              "    }\n",
              "\n",
              "    .dataframe tbody tr th {\n",
              "        vertical-align: top;\n",
              "    }\n",
              "\n",
              "    .dataframe thead th {\n",
              "        text-align: right;\n",
              "    }\n",
              "</style>\n",
              "<table border=\"1\" class=\"dataframe\">\n",
              "  <thead>\n",
              "    <tr style=\"text-align: right;\">\n",
              "      <th></th>\n",
              "      <th>pickup_longitude</th>\n",
              "      <th>pickup_latitude</th>\n",
              "      <th>dropoff_longitude</th>\n",
              "      <th>dropoff_latitude</th>\n",
              "      <th>passenger_count</th>\n",
              "      <th>trip_distance</th>\n",
              "      <th>tolls_amount</th>\n",
              "      <th>fare_amount</th>\n",
              "      <th>total_amount</th>\n",
              "    </tr>\n",
              "  </thead>\n",
              "  <tbody>\n",
              "    <tr>\n",
              "      <th>count</th>\n",
              "      <td>10716.000000</td>\n",
              "      <td>10716.000000</td>\n",
              "      <td>10716.000000</td>\n",
              "      <td>10716.000000</td>\n",
              "      <td>10716.000000</td>\n",
              "      <td>10716.000000</td>\n",
              "      <td>10716.000000</td>\n",
              "      <td>10716.000000</td>\n",
              "      <td>10716.000000</td>\n",
              "    </tr>\n",
              "    <tr>\n",
              "      <th>mean</th>\n",
              "      <td>-72.602192</td>\n",
              "      <td>40.002372</td>\n",
              "      <td>-72.594838</td>\n",
              "      <td>40.002052</td>\n",
              "      <td>1.650056</td>\n",
              "      <td>2.856395</td>\n",
              "      <td>0.226428</td>\n",
              "      <td>11.109446</td>\n",
              "      <td>13.217078</td>\n",
              "    </tr>\n",
              "    <tr>\n",
              "      <th>std</th>\n",
              "      <td>9.982373</td>\n",
              "      <td>5.474670</td>\n",
              "      <td>10.004324</td>\n",
              "      <td>5.474648</td>\n",
              "      <td>1.283577</td>\n",
              "      <td>3.322024</td>\n",
              "      <td>1.135934</td>\n",
              "      <td>9.137710</td>\n",
              "      <td>10.953156</td>\n",
              "    </tr>\n",
              "    <tr>\n",
              "      <th>min</th>\n",
              "      <td>-74.258183</td>\n",
              "      <td>0.000000</td>\n",
              "      <td>-74.260472</td>\n",
              "      <td>0.000000</td>\n",
              "      <td>0.000000</td>\n",
              "      <td>0.010000</td>\n",
              "      <td>0.000000</td>\n",
              "      <td>2.500000</td>\n",
              "      <td>2.500000</td>\n",
              "    </tr>\n",
              "    <tr>\n",
              "      <th>25%</th>\n",
              "      <td>-73.992153</td>\n",
              "      <td>40.735936</td>\n",
              "      <td>-73.991566</td>\n",
              "      <td>40.734310</td>\n",
              "      <td>1.000000</td>\n",
              "      <td>1.040000</td>\n",
              "      <td>0.000000</td>\n",
              "      <td>6.000000</td>\n",
              "      <td>7.300000</td>\n",
              "    </tr>\n",
              "    <tr>\n",
              "      <th>50%</th>\n",
              "      <td>-73.981851</td>\n",
              "      <td>40.753264</td>\n",
              "      <td>-73.980373</td>\n",
              "      <td>40.752956</td>\n",
              "      <td>1.000000</td>\n",
              "      <td>1.770000</td>\n",
              "      <td>0.000000</td>\n",
              "      <td>8.500000</td>\n",
              "      <td>10.000000</td>\n",
              "    </tr>\n",
              "    <tr>\n",
              "      <th>75%</th>\n",
              "      <td>-73.967400</td>\n",
              "      <td>40.767340</td>\n",
              "      <td>-73.964142</td>\n",
              "      <td>40.767510</td>\n",
              "      <td>2.000000</td>\n",
              "      <td>3.160000</td>\n",
              "      <td>0.000000</td>\n",
              "      <td>12.500000</td>\n",
              "      <td>14.600000</td>\n",
              "    </tr>\n",
              "    <tr>\n",
              "      <th>max</th>\n",
              "      <td>0.000000</td>\n",
              "      <td>41.366138</td>\n",
              "      <td>0.000000</td>\n",
              "      <td>41.366138</td>\n",
              "      <td>6.000000</td>\n",
              "      <td>42.800000</td>\n",
              "      <td>16.000000</td>\n",
              "      <td>179.000000</td>\n",
              "      <td>179.000000</td>\n",
              "    </tr>\n",
              "  </tbody>\n",
              "</table>\n",
              "</div>"
            ],
            "text/plain": [
              "       pickup_longitude  pickup_latitude  dropoff_longitude  dropoff_latitude  \\\n",
              "count      10716.000000     10716.000000       10716.000000      10716.000000   \n",
              "mean         -72.602192        40.002372         -72.594838         40.002052   \n",
              "std            9.982373         5.474670          10.004324          5.474648   \n",
              "min          -74.258183         0.000000         -74.260472          0.000000   \n",
              "25%          -73.992153        40.735936         -73.991566         40.734310   \n",
              "50%          -73.981851        40.753264         -73.980373         40.752956   \n",
              "75%          -73.967400        40.767340         -73.964142         40.767510   \n",
              "max            0.000000        41.366138           0.000000         41.366138   \n",
              "\n",
              "       passenger_count  trip_distance  tolls_amount   fare_amount  \\\n",
              "count     10716.000000   10716.000000  10716.000000  10716.000000   \n",
              "mean          1.650056       2.856395      0.226428     11.109446   \n",
              "std           1.283577       3.322024      1.135934      9.137710   \n",
              "min           0.000000       0.010000      0.000000      2.500000   \n",
              "25%           1.000000       1.040000      0.000000      6.000000   \n",
              "50%           1.000000       1.770000      0.000000      8.500000   \n",
              "75%           2.000000       3.160000      0.000000     12.500000   \n",
              "max           6.000000      42.800000     16.000000    179.000000   \n",
              "\n",
              "       total_amount  \n",
              "count  10716.000000  \n",
              "mean      13.217078  \n",
              "std       10.953156  \n",
              "min        2.500000  \n",
              "25%        7.300000  \n",
              "50%       10.000000  \n",
              "75%       14.600000  \n",
              "max      179.000000  "
            ]
          },
          "metadata": {
            "tags": []
          },
          "execution_count": 12
        }
      ]
    },
    {
      "cell_type": "markdown",
      "metadata": {
        "id": "Z1U3QGtxMk7y",
        "colab_type": "text"
      },
      "source": [
        "Hmm ... The min, max of longitude look strange.\n",
        "\n",
        "Finally, let's actually look at the start and end of a few of the trips."
      ]
    },
    {
      "cell_type": "code",
      "metadata": {
        "id": "gxE2Z5GHMk70",
        "colab_type": "code",
        "colab": {},
        "outputId": "76795ea7-7e6c-4afe-b192-186257454755"
      },
      "source": [
        "def showrides(df, numlines):\n",
        "  lats = []\n",
        "  lons = []\n",
        "  for iter, row in df[:numlines].iterrows():\n",
        "    lons.append(row['pickup_longitude'])\n",
        "    lons.append(row['dropoff_longitude'])\n",
        "    lons.append(None)\n",
        "    lats.append(row['pickup_latitude'])\n",
        "    lats.append(row['dropoff_latitude'])\n",
        "    lats.append(None)\n",
        "\n",
        "  sns.set_style(\"darkgrid\")\n",
        "  plt.figure(figsize=(10,8))\n",
        "  plt.plot(lons, lats)\n",
        "\n",
        "showrides(trips, 10)"
      ],
      "execution_count": 0,
      "outputs": [
        {
          "output_type": "stream",
          "text": [
            "/usr/local/envs/py3env/lib/python3.5/site-packages/matplotlib/font_manager.py:1320: UserWarning: findfont: Font family ['sans-serif'] not found. Falling back to DejaVu Sans\n",
            "  (prop.get_family(), self.defaultFamily[fontext]))\n"
          ],
          "name": "stderr"
        },
        {
          "output_type": "display_data",
          "data": {
            "image/png": "[encoded data removed]",
            "text/plain": [
              "<matplotlib.figure.Figure at 0x7f05eecac8d0>"
            ]
          },
          "metadata": {
            "tags": []
          }
        }
      ]
    },
    {
      "cell_type": "code",
      "metadata": {
        "id": "qrB7v0lRMk73",
        "colab_type": "code",
        "colab": {},
        "outputId": "8d666dcc-5c65-4526-d726-7001036898b1"
      },
      "source": [
        "showrides(tollrides, 10)"
      ],
      "execution_count": 0,
      "outputs": [
        {
          "output_type": "stream",
          "text": [
            "/usr/local/envs/py3env/lib/python3.5/site-packages/matplotlib/font_manager.py:1320: UserWarning: findfont: Font family ['sans-serif'] not found. Falling back to DejaVu Sans\n",
            "  (prop.get_family(), self.defaultFamily[fontext]))\n"
          ],
          "name": "stderr"
        },
        {
          "output_type": "display_data",
          "data": {
            "image/png": "[encoded data removed]",
            "text/plain": [
              "<matplotlib.figure.Figure at 0x7f05eefb8978>"
            ]
          },
          "metadata": {
            "tags": []
          }
        }
      ]
    },
    {
      "cell_type": "markdown",
      "metadata": {
        "id": "PrYEBNSdMk76",
        "colab_type": "text"
      },
      "source": [
        "As you'd expect, rides that involve a toll are longer than the typical ride."
      ]
    },
    {
      "cell_type": "markdown",
      "metadata": {
        "id": "uu0tz3wpMk77",
        "colab_type": "text"
      },
      "source": [
        "<h3> Quality control and other preprocessing </h3>\n",
        "\n",
        "We need to some clean-up of the data:\n",
        "<ol>\n",
        "<li>New York city longitudes are around -74 and latitudes are around 41.</li>\n",
        "<li>We shouldn't have zero passengers.</li>\n",
        "<li>Clean up the total_amount column to reflect only fare_amount and tolls_amount, and then remove those two columns.</li>\n",
        "<li>Before the ride starts, we'll know the pickup and dropoff locations, but not the trip distance (that depends on the route taken), so remove it from the ML dataset</li>\n",
        "<li>Discard the timestamp</li>\n",
        "</ol>\n",
        "\n",
        "We could do preprocessing in BigQuery, similar to how we removed the zero-distance rides, but just to show you another option, let's do this in Python.  In production, we'll have to carry out the same preprocessing on the real-time input data. \n",
        "\n",
        "This sort of preprocessing of input data is quite common in ML, especially if the quality-control is dynamic."
      ]
    },
    {
      "cell_type": "code",
      "metadata": {
        "id": "J4HBp5xPMk78",
        "colab_type": "code",
        "colab": {},
        "outputId": "fbee4bc2-9f53-4f51-a842-295a6bcf2c0e"
      },
      "source": [
        "def preprocess(trips_in):\n",
        "  trips = trips_in.copy(deep=True)\n",
        "  trips.fare_amount = trips.fare_amount + trips.tolls_amount\n",
        "  del trips['tolls_amount']\n",
        "  del trips['total_amount']\n",
        "  del trips['trip_distance']\n",
        "  del trips['pickup_datetime']\n",
        "  qc = np.all([\\\n",
        "             trips['pickup_longitude'] > -78, \\\n",
        "             trips['pickup_longitude'] < -70, \\\n",
        "             trips['dropoff_longitude'] > -78, \\\n",
        "             trips['dropoff_longitude'] < -70, \\\n",
        "             trips['pickup_latitude'] > 37, \\\n",
        "             trips['pickup_latitude'] < 45, \\\n",
        "             trips['dropoff_latitude'] > 37, \\\n",
        "             trips['dropoff_latitude'] < 45, \\\n",
        "             trips['passenger_count'] > 0,\n",
        "            ], axis=0)\n",
        "  return trips[qc]\n",
        "\n",
        "tripsqc = preprocess(trips)\n",
        "tripsqc.describe()"
      ],
      "execution_count": 0,
      "outputs": [
        {
          "output_type": "execute_result",
          "data": {
            "text/html": [
              "<div>\n",
              "<style scoped>\n",
              "    .dataframe tbody tr th:only-of-type {\n",
              "        vertical-align: middle;\n",
              "    }\n",
              "\n",
              "    .dataframe tbody tr th {\n",
              "        vertical-align: top;\n",
              "    }\n",
              "\n",
              "    .dataframe thead th {\n",
              "        text-align: right;\n",
              "    }\n",
              "</style>\n",
              "<table border=\"1\" class=\"dataframe\">\n",
              "  <thead>\n",
              "    <tr style=\"text-align: right;\">\n",
              "      <th></th>\n",
              "      <th>pickup_longitude</th>\n",
              "      <th>pickup_latitude</th>\n",
              "      <th>dropoff_longitude</th>\n",
              "      <th>dropoff_latitude</th>\n",
              "      <th>passenger_count</th>\n",
              "      <th>fare_amount</th>\n",
              "    </tr>\n",
              "  </thead>\n",
              "  <tbody>\n",
              "    <tr>\n",
              "      <th>count</th>\n",
              "      <td>10476.000000</td>\n",
              "      <td>10476.000000</td>\n",
              "      <td>10476.000000</td>\n",
              "      <td>10476.000000</td>\n",
              "      <td>10476.000000</td>\n",
              "      <td>10476.000000</td>\n",
              "    </tr>\n",
              "    <tr>\n",
              "      <th>mean</th>\n",
              "      <td>-73.975206</td>\n",
              "      <td>40.751526</td>\n",
              "      <td>-73.974373</td>\n",
              "      <td>40.751199</td>\n",
              "      <td>1.653303</td>\n",
              "      <td>11.349003</td>\n",
              "    </tr>\n",
              "    <tr>\n",
              "      <th>std</th>\n",
              "      <td>0.038547</td>\n",
              "      <td>0.029187</td>\n",
              "      <td>0.039086</td>\n",
              "      <td>0.033147</td>\n",
              "      <td>1.278827</td>\n",
              "      <td>9.878630</td>\n",
              "    </tr>\n",
              "    <tr>\n",
              "      <th>min</th>\n",
              "      <td>-74.258183</td>\n",
              "      <td>40.452290</td>\n",
              "      <td>-74.260472</td>\n",
              "      <td>40.417750</td>\n",
              "      <td>1.000000</td>\n",
              "      <td>2.500000</td>\n",
              "    </tr>\n",
              "    <tr>\n",
              "      <th>25%</th>\n",
              "      <td>-73.992336</td>\n",
              "      <td>40.737600</td>\n",
              "      <td>-73.991739</td>\n",
              "      <td>40.735904</td>\n",
              "      <td>1.000000</td>\n",
              "      <td>6.000000</td>\n",
              "    </tr>\n",
              "    <tr>\n",
              "      <th>50%</th>\n",
              "      <td>-73.982090</td>\n",
              "      <td>40.754020</td>\n",
              "      <td>-73.980780</td>\n",
              "      <td>40.753597</td>\n",
              "      <td>1.000000</td>\n",
              "      <td>8.500000</td>\n",
              "    </tr>\n",
              "    <tr>\n",
              "      <th>75%</th>\n",
              "      <td>-73.968517</td>\n",
              "      <td>40.767774</td>\n",
              "      <td>-73.965851</td>\n",
              "      <td>40.767921</td>\n",
              "      <td>2.000000</td>\n",
              "      <td>12.500000</td>\n",
              "    </tr>\n",
              "    <tr>\n",
              "      <th>max</th>\n",
              "      <td>-73.137393</td>\n",
              "      <td>41.366138</td>\n",
              "      <td>-73.137393</td>\n",
              "      <td>41.366138</td>\n",
              "      <td>6.000000</td>\n",
              "      <td>179.000000</td>\n",
              "    </tr>\n",
              "  </tbody>\n",
              "</table>\n",
              "</div>"
            ],
            "text/plain": [
              "       pickup_longitude  pickup_latitude  dropoff_longitude  dropoff_latitude  \\\n",
              "count      10476.000000     10476.000000       10476.000000      10476.000000   \n",
              "mean         -73.975206        40.751526         -73.974373         40.751199   \n",
              "std            0.038547         0.029187           0.039086          0.033147   \n",
              "min          -74.258183        40.452290         -74.260472         40.417750   \n",
              "25%          -73.992336        40.737600         -73.991739         40.735904   \n",
              "50%          -73.982090        40.754020         -73.980780         40.753597   \n",
              "75%          -73.968517        40.767774         -73.965851         40.767921   \n",
              "max          -73.137393        41.366138         -73.137393         41.366138   \n",
              "\n",
              "       passenger_count   fare_amount  \n",
              "count     10476.000000  10476.000000  \n",
              "mean          1.653303     11.349003  \n",
              "std           1.278827      9.878630  \n",
              "min           1.000000      2.500000  \n",
              "25%           1.000000      6.000000  \n",
              "50%           1.000000      8.500000  \n",
              "75%           2.000000     12.500000  \n",
              "max           6.000000    179.000000  "
            ]
          },
          "metadata": {
            "tags": []
          },
          "execution_count": 16
        }
      ]
    },
    {
      "cell_type": "markdown",
      "metadata": {
        "id": "aBHdILKxMk7_",
        "colab_type": "text"
      },
      "source": [
        "The quality control has removed about 300 rows (11400 - 11101) or about 3% of the data. This seems reasonable.\n",
        "\n",
        "Let's move on to creating the ML datasets.\n",
        "\n",
        "<h3> Create ML datasets </h3>\n",
        "\n",
        "Let's split the QCed data randomly into training, validation and test sets."
      ]
    },
    {
      "cell_type": "code",
      "metadata": {
        "id": "NDVJvOxxMk8A",
        "colab_type": "code",
        "colab": {}
      },
      "source": [
        "shuffled = tripsqc.sample(frac=1)\n",
        "trainsize = int(len(shuffled['fare_amount']) * 0.70)\n",
        "validsize = int(len(shuffled['fare_amount']) * 0.15)\n",
        "\n",
        "df_train = shuffled.iloc[:trainsize, :]\n",
        "df_valid = shuffled.iloc[trainsize:(trainsize+validsize), :]\n",
        "df_test = shuffled.iloc[(trainsize+validsize):, :]"
      ],
      "execution_count": 0,
      "outputs": []
    },
    {
      "cell_type": "code",
      "metadata": {
        "id": "1OetB3G6Mk8D",
        "colab_type": "code",
        "colab": {},
        "outputId": "3a846b9d-699a-49be-e6b6-bf4b2592e79b"
      },
      "source": [
        "df_train.describe()"
      ],
      "execution_count": 0,
      "outputs": [
        {
          "output_type": "execute_result",
          "data": {
            "text/html": [
              "<div>\n",
              "<style scoped>\n",
              "    .dataframe tbody tr th:only-of-type {\n",
              "        vertical-align: middle;\n",
              "    }\n",
              "\n",
              "    .dataframe tbody tr th {\n",
              "        vertical-align: top;\n",
              "    }\n",
              "\n",
              "    .dataframe thead th {\n",
              "        text-align: right;\n",
              "    }\n",
              "</style>\n",
              "<table border=\"1\" class=\"dataframe\">\n",
              "  <thead>\n",
              "    <tr style=\"text-align: right;\">\n",
              "      <th></th>\n",
              "      <th>pickup_longitude</th>\n",
              "      <th>pickup_latitude</th>\n",
              "      <th>dropoff_longitude</th>\n",
              "      <th>dropoff_latitude</th>\n",
              "      <th>passenger_count</th>\n",
              "      <th>fare_amount</th>\n",
              "    </tr>\n",
              "  </thead>\n",
              "  <tbody>\n",
              "    <tr>\n",
              "      <th>count</th>\n",
              "      <td>7333.000000</td>\n",
              "      <td>7333.000000</td>\n",
              "      <td>7333.000000</td>\n",
              "      <td>7333.000000</td>\n",
              "      <td>7333.000000</td>\n",
              "      <td>7333.000000</td>\n",
              "    </tr>\n",
              "    <tr>\n",
              "      <th>mean</th>\n",
              "      <td>-73.975079</td>\n",
              "      <td>40.751538</td>\n",
              "      <td>-73.974059</td>\n",
              "      <td>40.750845</td>\n",
              "      <td>1.647757</td>\n",
              "      <td>11.424493</td>\n",
              "    </tr>\n",
              "    <tr>\n",
              "      <th>std</th>\n",
              "      <td>0.040065</td>\n",
              "      <td>0.030311</td>\n",
              "      <td>0.040975</td>\n",
              "      <td>0.034323</td>\n",
              "      <td>1.270396</td>\n",
              "      <td>10.139989</td>\n",
              "    </tr>\n",
              "    <tr>\n",
              "      <th>min</th>\n",
              "      <td>-74.187541</td>\n",
              "      <td>40.452290</td>\n",
              "      <td>-74.187541</td>\n",
              "      <td>40.417750</td>\n",
              "      <td>1.000000</td>\n",
              "      <td>2.500000</td>\n",
              "    </tr>\n",
              "    <tr>\n",
              "      <th>25%</th>\n",
              "      <td>-73.992317</td>\n",
              "      <td>40.737615</td>\n",
              "      <td>-73.991753</td>\n",
              "      <td>40.735049</td>\n",
              "      <td>1.000000</td>\n",
              "      <td>6.000000</td>\n",
              "    </tr>\n",
              "    <tr>\n",
              "      <th>50%</th>\n",
              "      <td>-73.982031</td>\n",
              "      <td>40.753865</td>\n",
              "      <td>-73.980684</td>\n",
              "      <td>40.753367</td>\n",
              "      <td>1.000000</td>\n",
              "      <td>8.500000</td>\n",
              "    </tr>\n",
              "    <tr>\n",
              "      <th>75%</th>\n",
              "      <td>-73.968411</td>\n",
              "      <td>40.767797</td>\n",
              "      <td>-73.965569</td>\n",
              "      <td>40.767891</td>\n",
              "      <td>2.000000</td>\n",
              "      <td>12.500000</td>\n",
              "    </tr>\n",
              "    <tr>\n",
              "      <th>max</th>\n",
              "      <td>-73.137393</td>\n",
              "      <td>41.366138</td>\n",
              "      <td>-73.137393</td>\n",
              "      <td>41.366138</td>\n",
              "      <td>6.000000</td>\n",
              "      <td>179.000000</td>\n",
              "    </tr>\n",
              "  </tbody>\n",
              "</table>\n",
              "</div>"
            ],
            "text/plain": [
              "       pickup_longitude  pickup_latitude  dropoff_longitude  dropoff_latitude  \\\n",
              "count       7333.000000      7333.000000        7333.000000       7333.000000   \n",
              "mean         -73.975079        40.751538         -73.974059         40.750845   \n",
              "std            0.040065         0.030311           0.040975          0.034323   \n",
              "min          -74.187541        40.452290         -74.187541         40.417750   \n",
              "25%          -73.992317        40.737615         -73.991753         40.735049   \n",
              "50%          -73.982031        40.753865         -73.980684         40.753367   \n",
              "75%          -73.968411        40.767797         -73.965569         40.767891   \n",
              "max          -73.137393        41.366138         -73.137393         41.366138   \n",
              "\n",
              "       passenger_count  fare_amount  \n",
              "count      7333.000000  7333.000000  \n",
              "mean          1.647757    11.424493  \n",
              "std           1.270396    10.139989  \n",
              "min           1.000000     2.500000  \n",
              "25%           1.000000     6.000000  \n",
              "50%           1.000000     8.500000  \n",
              "75%           2.000000    12.500000  \n",
              "max           6.000000   179.000000  "
            ]
          },
          "metadata": {
            "tags": []
          },
          "execution_count": 18
        }
      ]
    },
    {
      "cell_type": "code",
      "metadata": {
        "id": "ggsOUmCfMk8G",
        "colab_type": "code",
        "colab": {},
        "outputId": "0ace36b9-a4fd-4169-e59e-530619f9086a"
      },
      "source": [
        "df_valid.describe()"
      ],
      "execution_count": 0,
      "outputs": [
        {
          "output_type": "execute_result",
          "data": {
            "text/html": [
              "<div>\n",
              "<style scoped>\n",
              "    .dataframe tbody tr th:only-of-type {\n",
              "        vertical-align: middle;\n",
              "    }\n",
              "\n",
              "    .dataframe tbody tr th {\n",
              "        vertical-align: top;\n",
              "    }\n",
              "\n",
              "    .dataframe thead th {\n",
              "        text-align: right;\n",
              "    }\n",
              "</style>\n",
              "<table border=\"1\" class=\"dataframe\">\n",
              "  <thead>\n",
              "    <tr style=\"text-align: right;\">\n",
              "      <th></th>\n",
              "      <th>pickup_longitude</th>\n",
              "      <th>pickup_latitude</th>\n",
              "      <th>dropoff_longitude</th>\n",
              "      <th>dropoff_latitude</th>\n",
              "      <th>passenger_count</th>\n",
              "      <th>fare_amount</th>\n",
              "    </tr>\n",
              "  </thead>\n",
              "  <tbody>\n",
              "    <tr>\n",
              "      <th>count</th>\n",
              "      <td>1571.000000</td>\n",
              "      <td>1571.000000</td>\n",
              "      <td>1571.000000</td>\n",
              "      <td>1571.000000</td>\n",
              "      <td>1571.000000</td>\n",
              "      <td>1571.000000</td>\n",
              "    </tr>\n",
              "    <tr>\n",
              "      <th>mean</th>\n",
              "      <td>-73.976119</td>\n",
              "      <td>40.751629</td>\n",
              "      <td>-73.975726</td>\n",
              "      <td>40.752149</td>\n",
              "      <td>1.651178</td>\n",
              "      <td>10.940102</td>\n",
              "    </tr>\n",
              "    <tr>\n",
              "      <th>std</th>\n",
              "      <td>0.032479</td>\n",
              "      <td>0.026117</td>\n",
              "      <td>0.031382</td>\n",
              "      <td>0.028898</td>\n",
              "      <td>1.310138</td>\n",
              "      <td>8.573304</td>\n",
              "    </tr>\n",
              "    <tr>\n",
              "      <th>min</th>\n",
              "      <td>-74.071915</td>\n",
              "      <td>40.632473</td>\n",
              "      <td>-74.177625</td>\n",
              "      <td>40.601930</td>\n",
              "      <td>1.000000</td>\n",
              "      <td>2.500000</td>\n",
              "    </tr>\n",
              "    <tr>\n",
              "      <th>25%</th>\n",
              "      <td>-73.992250</td>\n",
              "      <td>40.737697</td>\n",
              "      <td>-73.991912</td>\n",
              "      <td>40.737201</td>\n",
              "      <td>1.000000</td>\n",
              "      <td>6.100000</td>\n",
              "    </tr>\n",
              "    <tr>\n",
              "      <th>50%</th>\n",
              "      <td>-73.982081</td>\n",
              "      <td>40.754111</td>\n",
              "      <td>-73.981308</td>\n",
              "      <td>40.754530</td>\n",
              "      <td>1.000000</td>\n",
              "      <td>8.500000</td>\n",
              "    </tr>\n",
              "    <tr>\n",
              "      <th>75%</th>\n",
              "      <td>-73.968335</td>\n",
              "      <td>40.767866</td>\n",
              "      <td>-73.967178</td>\n",
              "      <td>40.767746</td>\n",
              "      <td>2.000000</td>\n",
              "      <td>12.500000</td>\n",
              "    </tr>\n",
              "    <tr>\n",
              "      <th>max</th>\n",
              "      <td>-73.768990</td>\n",
              "      <td>40.836067</td>\n",
              "      <td>-73.718489</td>\n",
              "      <td>40.869148</td>\n",
              "      <td>6.000000</td>\n",
              "      <td>82.660000</td>\n",
              "    </tr>\n",
              "  </tbody>\n",
              "</table>\n",
              "</div>"
            ],
            "text/plain": [
              "       pickup_longitude  pickup_latitude  dropoff_longitude  dropoff_latitude  \\\n",
              "count       1571.000000      1571.000000        1571.000000       1571.000000   \n",
              "mean         -73.976119        40.751629         -73.975726         40.752149   \n",
              "std            0.032479         0.026117           0.031382          0.028898   \n",
              "min          -74.071915        40.632473         -74.177625         40.601930   \n",
              "25%          -73.992250        40.737697         -73.991912         40.737201   \n",
              "50%          -73.982081        40.754111         -73.981308         40.754530   \n",
              "75%          -73.968335        40.767866         -73.967178         40.767746   \n",
              "max          -73.768990        40.836067         -73.718489         40.869148   \n",
              "\n",
              "       passenger_count  fare_amount  \n",
              "count      1571.000000  1571.000000  \n",
              "mean          1.651178    10.940102  \n",
              "std           1.310138     8.573304  \n",
              "min           1.000000     2.500000  \n",
              "25%           1.000000     6.100000  \n",
              "50%           1.000000     8.500000  \n",
              "75%           2.000000    12.500000  \n",
              "max           6.000000    82.660000  "
            ]
          },
          "metadata": {
            "tags": []
          },
          "execution_count": 19
        }
      ]
    },
    {
      "cell_type": "code",
      "metadata": {
        "id": "--1lKsABMk8J",
        "colab_type": "code",
        "colab": {},
        "outputId": "d0454ce6-419d-4e3d-f654-2a44a4b4f839"
      },
      "source": [
        "df_test.describe()"
      ],
      "execution_count": 0,
      "outputs": [
        {
          "output_type": "execute_result",
          "data": {
            "text/html": [
              "<div>\n",
              "<style scoped>\n",
              "    .dataframe tbody tr th:only-of-type {\n",
              "        vertical-align: middle;\n",
              "    }\n",
              "\n",
              "    .dataframe tbody tr th {\n",
              "        vertical-align: top;\n",
              "    }\n",
              "\n",
              "    .dataframe thead th {\n",
              "        text-align: right;\n",
              "    }\n",
              "</style>\n",
              "<table border=\"1\" class=\"dataframe\">\n",
              "  <thead>\n",
              "    <tr style=\"text-align: right;\">\n",
              "      <th></th>\n",
              "      <th>pickup_longitude</th>\n",
              "      <th>pickup_latitude</th>\n",
              "      <th>dropoff_longitude</th>\n",
              "      <th>dropoff_latitude</th>\n",
              "      <th>passenger_count</th>\n",
              "      <th>fare_amount</th>\n",
              "    </tr>\n",
              "  </thead>\n",
              "  <tbody>\n",
              "    <tr>\n",
              "      <th>count</th>\n",
              "      <td>1572.000000</td>\n",
              "      <td>1572.000000</td>\n",
              "      <td>1572.000000</td>\n",
              "      <td>1572.000000</td>\n",
              "      <td>1572.000000</td>\n",
              "      <td>1572.000000</td>\n",
              "    </tr>\n",
              "    <tr>\n",
              "      <th>mean</th>\n",
              "      <td>-73.974890</td>\n",
              "      <td>40.751362</td>\n",
              "      <td>-73.974488</td>\n",
              "      <td>40.751901</td>\n",
              "      <td>1.681298</td>\n",
              "      <td>11.405503</td>\n",
              "    </tr>\n",
              "    <tr>\n",
              "      <th>std</th>\n",
              "      <td>0.036887</td>\n",
              "      <td>0.026659</td>\n",
              "      <td>0.036934</td>\n",
              "      <td>0.031486</td>\n",
              "      <td>1.286796</td>\n",
              "      <td>9.857309</td>\n",
              "    </tr>\n",
              "    <tr>\n",
              "      <th>min</th>\n",
              "      <td>-74.258183</td>\n",
              "      <td>40.641482</td>\n",
              "      <td>-74.260472</td>\n",
              "      <td>40.561076</td>\n",
              "      <td>1.000000</td>\n",
              "      <td>2.500000</td>\n",
              "    </tr>\n",
              "    <tr>\n",
              "      <th>25%</th>\n",
              "      <td>-73.992602</td>\n",
              "      <td>40.737479</td>\n",
              "      <td>-73.991627</td>\n",
              "      <td>40.737366</td>\n",
              "      <td>1.000000</td>\n",
              "      <td>6.000000</td>\n",
              "    </tr>\n",
              "    <tr>\n",
              "      <th>50%</th>\n",
              "      <td>-73.982381</td>\n",
              "      <td>40.754399</td>\n",
              "      <td>-73.980807</td>\n",
              "      <td>40.754013</td>\n",
              "      <td>1.000000</td>\n",
              "      <td>8.100000</td>\n",
              "    </tr>\n",
              "    <tr>\n",
              "      <th>75%</th>\n",
              "      <td>-73.968978</td>\n",
              "      <td>40.767172</td>\n",
              "      <td>-73.965401</td>\n",
              "      <td>40.768470</td>\n",
              "      <td>2.000000</td>\n",
              "      <td>12.500000</td>\n",
              "    </tr>\n",
              "    <tr>\n",
              "      <th>max</th>\n",
              "      <td>-73.776561</td>\n",
              "      <td>40.850072</td>\n",
              "      <td>-73.501985</td>\n",
              "      <td>40.895624</td>\n",
              "      <td>6.000000</td>\n",
              "      <td>93.300000</td>\n",
              "    </tr>\n",
              "  </tbody>\n",
              "</table>\n",
              "</div>"
            ],
            "text/plain": [
              "       pickup_longitude  pickup_latitude  dropoff_longitude  dropoff_latitude  \\\n",
              "count       1572.000000      1572.000000        1572.000000       1572.000000   \n",
              "mean         -73.974890        40.751362         -73.974488         40.751901   \n",
              "std            0.036887         0.026659           0.036934          0.031486   \n",
              "min          -74.258183        40.641482         -74.260472         40.561076   \n",
              "25%          -73.992602        40.737479         -73.991627         40.737366   \n",
              "50%          -73.982381        40.754399         -73.980807         40.754013   \n",
              "75%          -73.968978        40.767172         -73.965401         40.768470   \n",
              "max          -73.776561        40.850072         -73.501985         40.895624   \n",
              "\n",
              "       passenger_count  fare_amount  \n",
              "count      1572.000000  1572.000000  \n",
              "mean          1.681298    11.405503  \n",
              "std           1.286796     9.857309  \n",
              "min           1.000000     2.500000  \n",
              "25%           1.000000     6.000000  \n",
              "50%           1.000000     8.100000  \n",
              "75%           2.000000    12.500000  \n",
              "max           6.000000    93.300000  "
            ]
          },
          "metadata": {
            "tags": []
          },
          "execution_count": 20
        }
      ]
    },
    {
      "cell_type": "markdown",
      "metadata": {
        "id": "kAA5VI-IMk8M",
        "colab_type": "text"
      },
      "source": [
        "Let's write out the three dataframes to appropriately named csv files. We can use these csv files for local training (recall that these files represent only 1/100,000 of the full dataset) until we get to point of using Dataflow and Cloud ML."
      ]
    },
    {
      "cell_type": "code",
      "metadata": {
        "id": "o5bxH93QMk8M",
        "colab_type": "code",
        "colab": {},
        "outputId": "cecc28a8-a1f7-4776-d4f6-32c52e856b63"
      },
      "source": [
        "def to_csv(df, filename):\n",
        "  outdf = df.copy(deep=False)\n",
        "  outdf.loc[:, 'key'] = np.arange(0, len(outdf)) # rownumber as key\n",
        "  # reorder columns so that target is first column\n",
        "  cols = outdf.columns.tolist()\n",
        "  cols.remove('fare_amount')\n",
        "  cols.insert(0, 'fare_amount')\n",
        "  print (cols)  # new order of columns\n",
        "  outdf = outdf[cols]\n",
        "  outdf.to_csv(filename, header=False, index_label=False, index=False)\n",
        "\n",
        "to_csv(df_train, 'taxi-train.csv')\n",
        "to_csv(df_valid, 'taxi-valid.csv')\n",
        "to_csv(df_test, 'taxi-test.csv')"
      ],
      "execution_count": 0,
      "outputs": [
        {
          "output_type": "stream",
          "text": [
            "['fare_amount', 'pickup_longitude', 'pickup_latitude', 'dropoff_longitude', 'dropoff_latitude', 'passenger_count', 'key']\n",
            "['fare_amount', 'pickup_longitude', 'pickup_latitude', 'dropoff_longitude', 'dropoff_latitude', 'passenger_count', 'key']\n",
            "['fare_amount', 'pickup_longitude', 'pickup_latitude', 'dropoff_longitude', 'dropoff_latitude', 'passenger_count', 'key']\n"
          ],
          "name": "stdout"
        }
      ]
    },
    {
      "cell_type": "code",
      "metadata": {
        "id": "38B9_z8LMk8Q",
        "colab_type": "code",
        "colab": {},
        "outputId": "ca2697d9-d884-4d0e-a48f-b0e341af1dfa"
      },
      "source": [
        "!head -10 taxi-valid.csv"
      ],
      "execution_count": 0,
      "outputs": [
        {
          "output_type": "stream",
          "text": [
            "12.1,-73.983545,40.734092,-73.99052,40.761047,1,0\r\n",
            "10.9,-74.007181,40.727724,-73.983047,40.746487,2,1\r\n",
            "6.0,-73.970152,40.761582,-73.964638,40.772782,2,2\r\n",
            "28.5,-73.87451,40.773935,-74.010557,40.714609,1,3\r\n",
            "8.9,-73.961167,40.775743,-73.967136,40.798381,1,4\r\n",
            "3.7,-73.969399,40.759392,-73.969414,40.759396,1,5\r\n",
            "9.5,-74.005216,40.740194,-74.002041,40.724677,1,6\r\n",
            "8.5,-73.98246765136719,40.721126556396484,-74.0009765625,40.736228942871094,1,7\r\n",
            "19.0,-73.998392,40.74517,-73.939845,40.74908,1,8\r\n",
            "5.0,-73.94586181640625,40.78591537475586,-73.9554443359375,40.779685974121094,6,9\r\n"
          ],
          "name": "stdout"
        }
      ]
    },
    {
      "cell_type": "markdown",
      "metadata": {
        "id": "7rx6yFCYMk8S",
        "colab_type": "text"
      },
      "source": [
        "<h3> Verify that datasets exist </h3>"
      ]
    },
    {
      "cell_type": "code",
      "metadata": {
        "id": "3iQbmzwJMk8T",
        "colab_type": "code",
        "colab": {},
        "outputId": "3c4b0233-a911-4e38-9932-d46d7f8dbb28"
      },
      "source": [
        "!ls -l *.csv"
      ],
      "execution_count": 0,
      "outputs": [
        {
          "output_type": "stream",
          "text": [
            "-rw-r--r-- 1 root root  85769 Jun 17 07:23 taxi-test.csv\r\n",
            "-rw-r--r-- 1 root root 403208 Jun 17 07:23 taxi-train.csv\r\n",
            "-rw-r--r-- 1 root root  85358 Jun 17 07:23 taxi-valid.csv\r\n"
          ],
          "name": "stdout"
        }
      ]
    },
    {
      "cell_type": "markdown",
      "metadata": {
        "id": "rkmr0PxWMk8V",
        "colab_type": "text"
      },
      "source": [
        "We have 3 .csv files corresponding to train, valid, test.  The ratio of file-sizes correspond to our split of the data."
      ]
    },
    {
      "cell_type": "code",
      "metadata": {
        "id": "r7yzKkQOMk8W",
        "colab_type": "code",
        "colab": {},
        "outputId": "0725298e-b2b1-41cd-8dd6-25e918b0e685"
      },
      "source": [
        "%bash\n",
        "head taxi-train.csv"
      ],
      "execution_count": 0,
      "outputs": [
        {
          "output_type": "stream",
          "text": [
            "9.5,-73.974018,40.754091,-73.964666,40.774873,1,0\n",
            "6.5,-73.978277,40.748238,-73.994477,40.739082,3,1\n",
            "10.0,-74.013107,40.715405,-73.99999,40.723687,3,2\n",
            "4.0,-73.968765,40.763857,-73.964802,40.770267,1,3\n",
            "6.5,-73.965757,40.75848,-73.986174,40.75007,1,4\n",
            "8.5,-73.98494,40.74425,-73.998272,40.717947,5,5\n",
            "7.5,-73.993792,40.736067,-74.005997,40.724062,1,6\n",
            "7.7,-73.972513,40.786631,-73.96499,40.768303,1,7\n",
            "6.9,-73.999585,40.749322,-73.99108,40.73933,1,8\n",
            "4.5,-73.993207,40.730963,-73.988169,40.738194,1,9\n"
          ],
          "name": "stdout"
        }
      ]
    },
    {
      "cell_type": "markdown",
      "metadata": {
        "id": "YFKphZ4iMk8Z",
        "colab_type": "text"
      },
      "source": [
        "Looks good! We now have our ML datasets and are ready to train ML models, validate them and evaluate them."
      ]
    },
    {
      "cell_type": "markdown",
      "metadata": {
        "id": "Rp86LHOEMk8a",
        "colab_type": "text"
      },
      "source": [
        "<h3> Benchmark </h3>\n",
        "\n",
        "Before we start building complex ML models, it is a good idea to come up with a very simple model and use that as a benchmark.\n",
        "\n",
        "My model is going to be to simply divide the mean fare_amount by the mean trip_distance to come up with a rate and use that to predict.  Let's compute the RMSE of such a model."
      ]
    },
    {
      "cell_type": "code",
      "metadata": {
        "id": "u7cgwhTOMk8a",
        "colab_type": "code",
        "colab": {},
        "outputId": "ae8916b8-e119-4a4d-a125-ca1bdc122245"
      },
      "source": [
        "def distance_between(lat1, lon1, lat2, lon2):\n",
        "  # haversine formula to compute distance \"as the crow flies\".  Taxis can't fly of course.\n",
        "  dist = np.degrees(np.arccos(np.minimum(1,np.sin(np.radians(lat1)) * np.sin(np.radians(lat2)) + np.cos(np.radians(lat1)) * np.cos(np.radians(lat2)) * np.cos(np.radians(lon2 - lon1))))) * 60 * 1.515 * 1.609344\n",
        "  return dist\n",
        "\n",
        "def estimate_distance(df):\n",
        "  return distance_between(df['pickuplat'], df['pickuplon'], df['dropofflat'], df['dropofflon'])\n",
        "\n",
        "def compute_rmse(actual, predicted):\n",
        "  return np.sqrt(np.mean((actual-predicted)**2))\n",
        "\n",
        "def print_rmse(df, rate, name):\n",
        "  print (\"{1} RMSE = {0}\".format(compute_rmse(df['fare_amount'], rate*estimate_distance(df)), name))\n",
        "\n",
        "FEATURES = ['pickuplon','pickuplat','dropofflon','dropofflat','passengers']\n",
        "TARGET = 'fare_amount'\n",
        "columns = list([TARGET])\n",
        "columns.extend(FEATURES) # in CSV, target is the first column, after the features\n",
        "columns.append('key')\n",
        "df_train = pd.read_csv('taxi-train.csv', header=None, names=columns)\n",
        "df_valid = pd.read_csv('taxi-valid.csv', header=None, names=columns)\n",
        "df_test = pd.read_csv('taxi-test.csv', header=None, names=columns)\n",
        "rate = df_train['fare_amount'].mean() / estimate_distance(df_train).mean()\n",
        "print (\"Rate = ${0}/km\".format(rate))\n",
        "print_rmse(df_train, rate, 'Train')\n",
        "print_rmse(df_valid, rate, 'Valid') \n",
        "print_rmse(df_test, rate, 'Test') "
      ],
      "execution_count": 0,
      "outputs": [
        {
          "output_type": "stream",
          "text": [
            "Rate = $2.603109495033306/km\n",
            "Train RMSE = 8.375558695605426\n",
            "Valid RMSE = 5.429080728173043\n",
            "Test RMSE = 5.464270072987429\n"
          ],
          "name": "stdout"
        }
      ]
    },
    {
      "cell_type": "markdown",
      "metadata": {
        "id": "rn3_84trMk8e",
        "colab_type": "text"
      },
      "source": [
        "<h2>Benchmark on same dataset</h2>\n",
        "\n",
        "The RMSE depends on the dataset, and for comparison, we have to evaluate on the same dataset each time. We'll use this query in later labs:"
      ]
    },
    {
      "cell_type": "code",
      "metadata": {
        "id": "6ZOH2sRzMk8f",
        "colab_type": "code",
        "colab": {},
        "outputId": "5a2dd6ce-18f2-4176-d045-e4499cb7d0c0"
      },
      "source": [
        "def create_query(phase, EVERY_N):\n",
        "  \"\"\"\n",
        "  phase: 1=train 2=valid\n",
        "  \"\"\"\n",
        "  base_query = \"\"\"\n",
        "SELECT\n",
        "  (tolls_amount + fare_amount) AS fare_amount,\n",
        "  CONCAT(CAST(pickup_datetime AS STRING), CAST(pickup_longitude AS STRING), CAST(pickup_latitude AS STRING), CAST(dropoff_latitude AS STRING), CAST(dropoff_longitude AS STRING)) AS key,\n",
        "  EXTRACT(DAYOFWEEK FROM pickup_datetime)*1.0 AS dayofweek,\n",
        "  EXTRACT(HOUR FROM pickup_datetime)*1.0 AS hourofday,\n",
        "  pickup_longitude AS pickuplon,\n",
        "  pickup_latitude AS pickuplat,\n",
        "  dropoff_longitude AS dropofflon,\n",
        "  dropoff_latitude AS dropofflat,\n",
        "  passenger_count*1.0 AS passengers\n",
        "FROM\n",
        "  `nyc-tlc.yellow.trips`\n",
        "WHERE\n",
        "  trip_distance > 0\n",
        "  AND fare_amount >= 2.5\n",
        "  AND pickup_longitude > -78\n",
        "  AND pickup_longitude < -70\n",
        "  AND dropoff_longitude > -78\n",
        "  AND dropoff_longitude < -70\n",
        "  AND pickup_latitude > 37\n",
        "  AND pickup_latitude < 45\n",
        "  AND dropoff_latitude > 37\n",
        "  AND dropoff_latitude < 45\n",
        "  AND passenger_count > 0\n",
        "  \"\"\"\n",
        "\n",
        "  if EVERY_N == None:\n",
        "    if phase < 2:\n",
        "      # training\n",
        "      query = \"{0} AND MOD(ABS(FARM_FINGERPRINT(CAST(pickup_datetime AS STRING))), 4) < 2\".format(base_query)\n",
        "    else:\n",
        "      query = \"{0} AND MOD(ABS(FARM_FINGERPRINT(CAST(pickup_datetime AS STRING))), 4) = {1}\".format(base_query, phase)\n",
        "  else:\n",
        "      query = \"{0} AND MOD(ABS(FARM_FINGERPRINT(CAST(pickup_datetime AS STRING))), {1}) = {2}\".format(base_query, EVERY_N, phase)\n",
        "    \n",
        "  return query\n",
        "\n",
        "query = create_query(2, 100000)\n",
        "df_valid = client.query(query).to_dataframe()\n",
        "print_rmse(df_valid, 2.56, 'Final Validation Set')"
      ],
      "execution_count": 0,
      "outputs": [
        {
          "output_type": "stream",
          "text": [
            "Final Validation Set RMSE = 7.4158766166380445\n"
          ],
          "name": "stdout"
        }
      ]
    },
    {
      "cell_type": "markdown",
      "metadata": {
        "id": "pXMFJvuSMk8h",
        "colab_type": "text"
      },
      "source": [
        "The simple distance-based rule gives us a RMSE of <b>$7.42</b>.  We have to beat this, of course, but you will find that simple rules of thumb like this can be surprisingly difficult to beat.\n",
        "\n",
        "Let's be ambitious, though, and make our goal to build ML models that have a RMSE of less than $6 on the test set."
      ]
    },
    {
      "cell_type": "markdown",
      "metadata": {
        "id": "SkIM7W6oMk8h",
        "colab_type": "text"
      },
      "source": [
        "End of create dataset where you have created the dataset"
      ]
    }
  ]
}